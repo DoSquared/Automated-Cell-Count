{
  "cells": [
    {
      "cell_type": "markdown",
      "source": [
        "## *1. Postprocessing and Analysis Notebook*"
      ],
      "metadata": {
        "id": "v1Ixkhxby50B"
      },
      "id": "v1Ixkhxby50B"
    },
    {
      "cell_type": "markdown",
      "source": [
        "#### Count files in a directory"
      ],
      "metadata": {
        "id": "pjaiS2O2wtau"
      },
      "id": "pjaiS2O2wtau"
    },
    {
      "cell_type": "code",
      "execution_count": null,
      "id": "fb73ae23",
      "metadata": {
        "id": "fb73ae23"
      },
      "outputs": [],
      "source": [
        "#Function to count files in a directory\n",
        "def count_files(folder_path):\n",
        "    count = 0\n",
        "    for _, _, files in os.walk(folder_path):\n",
        "        count += len(files)\n",
        "    return count"
      ]
    },
    {
      "cell_type": "markdown",
      "id": "6443c265",
      "metadata": {
        "id": "6443c265"
      },
      "source": [
        "#### Load images from folder"
      ]
    },
    {
      "cell_type": "code",
      "execution_count": null,
      "id": "da479844",
      "metadata": {
        "id": "da479844"
      },
      "outputs": [],
      "source": [
        "#Function to load images from a directory\n",
        "def load_images_from_folder(folder):\n",
        "    images = []\n",
        "    for filename in os.listdir(folder):\n",
        "        img = cv2.imread(os.path.join(folder,filename))\n",
        "        if img is not None:\n",
        "            images.append(img)\n",
        "    return images"
      ]
    },
    {
      "cell_type": "markdown",
      "id": "45a1e905",
      "metadata": {
        "id": "45a1e905"
      },
      "source": [
        "### Find last created folder in \\detect directory\n",
        "\n",
        "\n"
      ]
    },
    {
      "cell_type": "code",
      "execution_count": null,
      "id": "d1134419",
      "metadata": {
        "id": "d1134419"
      },
      "outputs": [],
      "source": [
        "#Find the last created folder in detection output\n",
        "#In YOLO folders the detection output is often a newly created folder in the directory where detection runs are saved\n",
        "#The main objective of this function is to find the latest folder in detection runs output directory\n",
        "\n",
        "def Latest_folder():\n",
        "    #Go to \\detect directory\n",
        "    %cd \\path\\to\\detection\\output\n",
        "\n",
        "    #get all subdirectories in detect folder of YOLO\n",
        "    all_subdirs = [d for d in os.listdir('.') if os.path.isdir(d)]\n",
        "    #print(all_subdirs)\n",
        "\n",
        "    #find the last created folder\n",
        "    latest_subdir = max(all_subdirs, key=os.path.getmtime)\n",
        "    #print(latest_subdir)\n",
        "\n",
        "    #change current directory to the last created folder\n",
        "    os.chdir(latest_subdir)\n",
        "\n",
        "    return latest_subdir"
      ]
    },
    {
      "cell_type": "markdown",
      "source": [
        "### Find text\n",
        "\n",
        "\n"
      ],
      "metadata": {
        "id": "pwHLh2VSxZ_u"
      },
      "id": "pwHLh2VSxZ_u"
    },
    {
      "cell_type": "code",
      "execution_count": null,
      "id": "ab20b90b",
      "metadata": {
        "id": "ab20b90b"
      },
      "outputs": [],
      "source": [
        " #Function to List and return the names of all .txt files within a specified subdirectory\n",
        "def folder_filenames(target):\n",
        "    #try to change directory again to last exp (in case it was not successfuly updated in the previous function)\n",
        "    try:\n",
        "        os.chdir(target)\n",
        "    except:\n",
        "        pass\n",
        "\n",
        "    inputlst = [os.listdir('labels')]\n",
        "    filenamelist = []\n",
        "\n",
        "    for filename in os.listdir('labels'):\n",
        "        if filename.endswith(\".txt\"):\n",
        "            filenamelist.append(filename)\n",
        "    return filenamelist"
      ]
    },
    {
      "cell_type": "markdown",
      "source": [
        "### Count instances from txt files\n"
      ],
      "metadata": {
        "id": "_uIogKsRybo9"
      },
      "id": "_uIogKsRybo9"
    },
    {
      "cell_type": "code",
      "execution_count": null,
      "id": "483e313e",
      "metadata": {
        "id": "483e313e"
      },
      "outputs": [],
      "source": [
        "# Function to read all text files in the current directory, to count the number of lines starting with '0' (live) and '1' (dead) in each file,\n",
        "# and returns two lists: one with the live counts and another with the dead counts for each file.\n",
        "def Read_txtboundingBoxes():\n",
        "    live_count=[]\n",
        "    dead_count=[]\n",
        "    #Loop over text files in folder\n",
        "    for filename in glob.glob(os.path.join(os.getcwd(),'*.txt')):\n",
        "        #open file and read lines\n",
        "        with open(filename,'r') as f:\n",
        "            live = 0\n",
        "            dead = 0\n",
        "            #read contents of each file\n",
        "            text =f.readlines()\n",
        "            #read line by line\n",
        "            for line in text:\n",
        "                #first character in each line\n",
        "                this_class=line[0]\n",
        "                if this_class.isnumeric():\n",
        "                    if int(this_class) == 0:\n",
        "                        live= live+1\n",
        "                    elif int(this_class)==1:\n",
        "                        dead = dead+1\n",
        "            live_count.append(live)\n",
        "            dead_count.append(dead)\n",
        "    return live_count,dead_count"
      ]
    },
    {
      "cell_type": "markdown",
      "id": "0bf886a9",
      "metadata": {
        "id": "0bf886a9"
      },
      "source": [
        "#### List average"
      ]
    },
    {
      "cell_type": "code",
      "execution_count": null,
      "id": "5248d48a",
      "metadata": {
        "id": "5248d48a",
        "colab": {
          "base_uri": "https://localhost:8080/",
          "height": 110
        },
        "outputId": "be3046f5-8459-47a5-b394-916df069820d"
      },
      "outputs": [
        {
          "output_type": "error",
          "ename": "SyntaxError",
          "evalue": "leading zeros in decimal integer literals are not permitted; use an 0o prefix for octal integers (<ipython-input-1-b526b6e8fb02>, line 2)",
          "traceback": [
            "\u001b[0;36m  File \u001b[0;32m\"<ipython-input-1-b526b6e8fb02>\"\u001b[0;36m, line \u001b[0;32m2\u001b[0m\n\u001b[0;31m    sum = 01\u001b[0m\n\u001b[0m          ^\u001b[0m\n\u001b[0;31mSyntaxError\u001b[0m\u001b[0;31m:\u001b[0m leading zeros in decimal integer literals are not permitted; use an 0o prefix for octal integers\n"
          ]
        }
      ],
      "source": [
        "#Calculate list average\n",
        "def list_avg(L):\n",
        "    sum = 0\n",
        "    for i in L:\n",
        "        sum = sum+i\n",
        "    avg = int(sum / len(L))\n",
        "    return avg"
      ]
    },
    {
      "cell_type": "markdown",
      "id": "c91fe709",
      "metadata": {
        "id": "c91fe709"
      },
      "source": [
        "#### Cell Count averages"
      ]
    },
    {
      "cell_type": "code",
      "execution_count": null,
      "id": "7a45b65b",
      "metadata": {
        "id": "7a45b65b"
      },
      "outputs": [],
      "source": [
        "#Calculate list average per one corner(Neubauer chamber)\n",
        "def list_avg_per_corner(L):\n",
        "\n",
        "    acq_count = count_files(dir_Acquisition)\n",
        "    crops_count = count_files(dir_cropped)\n",
        "    #no of crops per corner\n",
        "    n = int(crops_count/acq_count)\n",
        "\n",
        "    averages = []\n",
        "\n",
        "    #L is the list of calculated number of cells\n",
        "    for i in range(1, len(L), n):\n",
        "        corner = L[i:i + n]\n",
        "        average = round(sum(corner) / len(corner))\n",
        "        averages.append(average)\n",
        "\n",
        "    return averages"
      ]
    },
    {
      "cell_type": "markdown",
      "id": "6f539542",
      "metadata": {
        "id": "6f539542"
      },
      "source": [
        "## Count cells from labels"
      ]
    },
    {
      "cell_type": "code",
      "execution_count": null,
      "id": "f4ade72e",
      "metadata": {
        "id": "f4ade72e",
        "outputId": "e9351860-3b85-494f-cca6-7612693ca079"
      },
      "outputs": [
        {
          "name": "stdout",
          "output_type": "stream",
          "text": [
            "C:\\CellCount\\YOLO\\OfflineYOLO\\yolov5-master\\runs\\detect\n",
            "exp36\n"
          ]
        }
      ],
      "source": [
        "#Navigate to the latest folder in \\detect\n",
        "last_exp = Latest_folder()\n",
        "print(last_exp)\n",
        "%cd last_exp"
      ]
    },
    {
      "cell_type": "code",
      "execution_count": null,
      "id": "7e762381",
      "metadata": {
        "id": "7e762381"
      },
      "outputs": [],
      "source": [
        "#get a list of .txt files in the last exp folder\n",
        "filenames = folder_filenames(last_exp)\n",
        "print(folder_filenames(last_exp))"
      ]
    },
    {
      "cell_type": "code",
      "execution_count": null,
      "id": "3aa2251d",
      "metadata": {
        "id": "3aa2251d"
      },
      "outputs": [],
      "source": [
        "#Change path to labels folder\n",
        "os.chdir('labels')"
      ]
    },
    {
      "cell_type": "code",
      "execution_count": null,
      "id": "a92beb93",
      "metadata": {
        "scrolled": true,
        "id": "a92beb93",
        "outputId": "0a8006b7-922f-489c-bf9d-f06b6d10b80a"
      },
      "outputs": [
        {
          "name": "stdout",
          "output_type": "stream",
          "text": [
            "Live cells:\n",
            "Count [230, 262, 239, 238, 240, 247, 252, 229, 251, 241, 276, 232] \n",
            "\n",
            "Average from all corners: Sum/#of corners:  244 \n",
            "\n",
            "Average per corner (list) : [246, 246] \t Average 246 \n",
            "\n",
            "Dead cells:\n",
            "Count [4, 7, 6, 6, 4, 4, 5, 7, 3, 3, 5, 3] \n",
            "\n",
            "Average from all corners: Sum/#of corners:  4 \n",
            "\n",
            "Average per corner (list) : [5, 4] \t Average 4 \n",
            "\n"
          ]
        }
      ],
      "source": [
        "#Extract and print count results from .txt files\n",
        "#Call function to count class occurrencies from .txt files\n",
        "live_count, dead_count = Read_txtboundingBoxes()\n",
        "print('Live cells:')\n",
        "\n",
        "print(\"Count\",live_count,\"\\ n\")\n",
        "print(\"Average from all corners: Sum/#of corners: \",list_avg(live_count),\"\\n\")\n",
        "averages_per_corner = list_avg_per_corner(live_count)\n",
        "print(\"Average per corner (list) :\",averages_per_corner,\"\\t\", \"Average\",list_avg(averages_per_corner),\"\\n\")\n",
        "\n",
        "print('Dead cells:')\n",
        "print(\"Count\",dead_count,\"\\n\")\n",
        "print(\"Average from all corners: Sum/#of corners: \",list_avg(dead_count),\"\\n\")\n",
        "dead_averages_per_corner = list_avg_per_corner(dead_count)\n",
        "print(\"Average per corner (list) :\",dead_averages_per_corner,\"\\t\", \"Average\",list_avg(dead_averages_per_corner),\"\\n\")"
      ]
    },
    {
      "cell_type": "markdown",
      "id": "82d32c4d",
      "metadata": {
        "id": "82d32c4d"
      },
      "source": [
        "Write results to a text file"
      ]
    },
    {
      "cell_type": "code",
      "execution_count": null,
      "id": "4946f1d2",
      "metadata": {
        "id": "4946f1d2",
        "outputId": "e4933fea-171f-4ce6-9c50-a576d2c366a9"
      },
      "outputs": [
        {
          "name": "stdout",
          "output_type": "stream",
          "text": [
            "Live cells:\n",
            "Count [51, 60, 46, 46, 62, 63, 61, 55, 39, 62, 64, 51, 55, 53, 42, 57, 57, 63, 65, 50, 45, 62, 60, 58, 57, 45, 51, 57, 55, 62, 71, 42, 51, 57, 57, 58, 0]\n",
            "Average: 53\n",
            "Dead cells:\n",
            "Count [8, 5, 8, 8, 3, 2, 5, 2, 4, 5, 1, 5, 7, 4, 8, 5, 1, 2, 4, 2, 4, 3, 0, 4, 6, 3, 7, 4, 2, 1, 3, 3, 4, 2, 2, 1, 0]\n",
            "Average: 3\n"
          ]
        }
      ],
      "source": [
        "with open('Summary.txt', 'w') as f:\n",
        "    print(\"Live cells:\")\n",
        "    print(\"Count\",live_count)\n",
        "    print(\"Average:\",list_avg(live_count))\n",
        "\n",
        "    print(\"Dead cells:\")\n",
        "    print(\"Count\", dead_count)\n",
        "    print(\"Average:\",list_avg(dead_count))\n",
        "    f.close()"
      ]
    },
    {
      "cell_type": "markdown",
      "source": [
        "## Plot results"
      ],
      "metadata": {
        "id": "9Q8Xwu8lGwNc"
      },
      "id": "9Q8Xwu8lGwNc"
    },
    {
      "cell_type": "code",
      "source": [
        "import matplotlib.pyplot as plt\n",
        "import numpy as np\n",
        "\n",
        "# Sample data\n",
        "live_count = [51, 60, 46, 46, 62, 63, 61, 55]\n",
        "dead_count = [8, 5, 8, 8, 3, 2, 5, 2]\n",
        "\n",
        "# Calculate average and standard deviation\n",
        "live_avg = np.mean(live_count)\n",
        "live_std = np.std(live_count)\n",
        "dead_avg = np.mean(dead_count)\n",
        "dead_std = np.std(dead_count)\n",
        "\n",
        "# Define colors\n",
        "live_color = '#4CAF50'  #Green color\n",
        "dead_color = '#FA8072'  #Orange-Salmon color\n",
        "\n",
        "# Plotting live cells\n",
        "plt.figure(figsize=(10, 4))\n",
        "plt.bar(np.arange(len(live_count)), live_count, color=live_color, label='Live Cells')\n",
        "plt.xlabel('Corner')\n",
        "plt.ylabel('Count')\n",
        "plt.title('Live Cell Counts')\n",
        "plt.xticks(np.arange(len(live_count)), ['Corner 1', 'Corner 2', 'Corner 3', 'Corner 4', 'Corner 5', 'Corner 6', 'Corner 7', 'Corner 8'])\n",
        "plt.axhline(y=live_avg, color=live_color, linestyle='--', label='Live Avg: {:.2f}'.format(live_avg))\n",
        "plt.legend()\n",
        "plt.show()\n",
        "\n",
        "# Plotting dead cells\n",
        "plt.figure(figsize=(10, 4))\n",
        "plt.bar(np.arange(len(dead_count)), dead_count, color=dead_color, label='Dead Cells')\n",
        "plt.xlabel('Corner')\n",
        "plt.ylabel('Count')\n",
        "plt.title('Dead Cell Counts')\n",
        "plt.xticks(np.arange(len(dead_count)), ['Corner 1', 'Corner 2', 'Corner 3', 'Corner 4', 'Corner 5', 'Corner 6', 'Corner 7', 'Corner 8'])\n",
        "plt.axhline(y=dead_avg, color=dead_color, linestyle='--', label='Dead Avg: {:.2f}'.format(dead_avg))\n",
        "plt.legend()\n",
        "plt.show()\n",
        "\n",
        "# Plotting average live and dead cells together\n",
        "plt.figure(figsize=(10, 4))\n",
        "plt.bar(np.arange(len(live_count)), live_count, color=live_color, label='Live Cells')\n",
        "plt.bar(np.arange(len(dead_count)), dead_count, color=dead_color, alpha=0.5, label='Dead Cells')\n",
        "plt.xlabel('Corner')\n",
        "plt.ylabel('Count')\n",
        "plt.title('Average Cell Counts')\n",
        "plt.xticks(np.arange(len(dead_count)), ['Corner 1', 'Corner 2', 'Corner 3', 'Corner 4', 'Corner 5', 'Corner 6', 'Corner 7', 'Corner 8'])\n",
        "plt.axhline(y=live_avg, color=live_color, linestyle='--', label='Live Avg: {:.2f}'.format(live_avg))\n",
        "plt.axhline(y=dead_avg, color=dead_color, linestyle='--', label='Dead Avg: {:.2f}'.format(dead_avg))\n",
        "plt.legend()\n",
        "plt.show()"
      ],
      "metadata": {
        "colab": {
          "base_uri": "https://localhost:8080/",
          "height": 1000
        },
        "id": "Vr0-gLf_EdZG",
        "outputId": "990e307f-736a-4f56-a4c8-c26b13ae039c"
      },
      "id": "Vr0-gLf_EdZG",
      "execution_count": 14,
      "outputs": [
        {
          "output_type": "display_data",
          "data": {
            "text/plain": [
              "<Figure size 1000x400 with 1 Axes>"
            ],
            "image/png": "[encoded data removed]"
          },
          "metadata": {}
        },
        {
          "output_type": "display_data",
          "data": {
            "text/plain": [
              "<Figure size 1000x400 with 1 Axes>"
            ],
            "image/png": "[encoded data removed]"
          },
          "metadata": {}
        },
        {
          "output_type": "display_data",
          "data": {
            "text/plain": [
              "<Figure size 1000x400 with 1 Axes>"
            ],
            "image/png": "[encoded data removed]"
          },
          "metadata": {}
        }
      ]
    }
  ],
  "metadata": {
    "kernelspec": {
      "display_name": "Python 3 (ipykernel)",
      "language": "python",
      "name": "python3"
    },
    "language_info": {
      "codemirror_mode": {
        "name": "ipython",
        "version": 3
      },
      "file_extension": ".py",
      "mimetype": "text/x-python",
      "name": "python",
      "nbconvert_exporter": "python",
      "pygments_lexer": "ipython3",
      "version": "3.9.13"
    },
    "colab": {
      "provenance": []
    }
  },
  "nbformat": 4,
  "nbformat_minor": 5
}