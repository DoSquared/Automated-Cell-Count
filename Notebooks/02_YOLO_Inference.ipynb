{
  "cells": [
    {
      "cell_type": "markdown",
      "source": [
        "## *2. YOLO_Inference Notebook*\n"
      ],
      "metadata": {
        "id": "Tcwl0Vv3vtnG"
      },
      "id": "Tcwl0Vv3vtnG"
    },
    {
      "cell_type": "markdown",
      "id": "77eaf564",
      "metadata": {
        "id": "77eaf564"
      },
      "source": [
        "Install YOLO requirements"
      ]
    },
    {
      "cell_type": "markdown",
      "source": [
        " *Before running this notebook:\n",
        "Download YOLOv5 source folder from ultralytics repository*"
      ],
      "metadata": {
        "id": "G0xHu_9neCDA"
      },
      "id": "G0xHu_9neCDA"
    },
    {
      "cell_type": "code",
      "source": [
        "# Navigate to YOLO directory"
      ],
      "metadata": {
        "id": "7qFYIXXyue_f"
      },
      "id": "7qFYIXXyue_f",
      "execution_count": null,
      "outputs": []
    },
    {
      "cell_type": "code",
      "source": [
        "%cd \\path\\to\\yolo\\onYourComputer"
      ],
      "metadata": {
        "id": "19xny-imuQ-Q"
      },
      "id": "19xny-imuQ-Q",
      "execution_count": null,
      "outputs": []
    },
    {
      "cell_type": "markdown",
      "source": [
        "Install YOLO requirements"
      ],
      "metadata": {
        "id": "m9MS8pdGvmff"
      },
      "id": "m9MS8pdGvmff"
    },
    {
      "cell_type": "code",
      "execution_count": null,
      "id": "5f81aa2e",
      "metadata": {
        "id": "5f81aa2e"
      },
      "outputs": [],
      "source": [
        "!pip install -r requirements.txt"
      ]
    },
    {
      "cell_type": "markdown",
      "id": "66236d7d",
      "metadata": {
        "id": "66236d7d"
      },
      "source": [
        "### Imports and subroutines\n"
      ]
    },
    {
      "cell_type": "markdown",
      "id": "c30d868d",
      "metadata": {
        "id": "c30d868d"
      },
      "source": [
        "Directories"
      ]
    },
    {
      "cell_type": "code",
      "execution_count": null,
      "id": "0d246349",
      "metadata": {
        "id": "0d246349"
      },
      "outputs": [],
      "source": [
        "dir_Acquisition = \"\\path\\to\\acquisition\\directory\"\n",
        "dir_tiffLayers= \"\\path\\to\\tifflayers\\directory\"\n",
        "dir_focused= \"path\\to\\focused\\layers\\directory\"\n",
        "dir_cropped = \"\\path\\to\\cropped\\slices\\directory\""
      ]
    },
    {
      "cell_type": "markdown",
      "id": "3f1718d5",
      "metadata": {
        "id": "3f1718d5"
      },
      "source": [
        "#### Count files"
      ]
    },
    {
      "cell_type": "markdown",
      "id": "6443c265",
      "metadata": {
        "id": "6443c265"
      },
      "source": [
        "#### Load images from folder"
      ]
    },
    {
      "cell_type": "markdown",
      "id": "a33caab7",
      "metadata": {
        "id": "a33caab7"
      },
      "source": [
        " ## Detection\n"
      ]
    },
    {
      "cell_type": "code",
      "execution_count": null,
      "id": "25d788b3",
      "metadata": {
        "id": "25d788b3"
      },
      "outputs": [],
      "source": [
        "#Inference from saved best weights, running on test images folder\n",
        "!python detect.py --agnostic --save-txt  --weights path\\to\\bestWeights.pt --img 1280 --source dir_cropped"
      ]
    }
  ],
  "metadata": {
    "kernelspec": {
      "display_name": "Python 3 (ipykernel)",
      "language": "python",
      "name": "python3"
    },
    "language_info": {
      "codemirror_mode": {
        "name": "ipython",
        "version": 3
      },
      "file_extension": ".py",
      "mimetype": "text/x-python",
      "name": "python",
      "nbconvert_exporter": "python",
      "pygments_lexer": "ipython3",
      "version": "3.9.13"
    },
    "colab": {
      "provenance": []
    }
  },
  "nbformat": 4,
  "nbformat_minor": 5
}
