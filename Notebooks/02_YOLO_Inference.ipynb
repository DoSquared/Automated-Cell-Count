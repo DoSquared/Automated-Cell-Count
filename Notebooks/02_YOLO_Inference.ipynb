{
  "cells": [
    {
      "cell_type": "markdown",
      "source": [
        "## *2. YOLO_Inference Notebook*\n"
      ],
      "metadata": {
        "id": "Tcwl0Vv3vtnG"
      },
      "id": "Tcwl0Vv3vtnG"
    },
    {
      "cell_type": "markdown",
      "id": "77eaf564",
      "metadata": {
        "id": "77eaf564"
      },
      "source": [
        "Install YOLO requirements"
      ]
    },
    {
      "cell_type": "markdown",
      "source": [
        " *Before running this notebook:\n",
        "Download YOLOv5 source folder from ultralytics repository*"
      ],
      "metadata": {
        "id": "G0xHu_9neCDA"
      },
      "id": "G0xHu_9neCDA"
    },
    {
      "cell_type": "code",
      "source": [
        "# Navigate to YOLO directory"
      ],
      "metadata": {
        "id": "7qFYIXXyue_f"
      },
      "id": "7qFYIXXyue_f",
      "execution_count": null,
      "outputs": []
    },
    {
      "cell_type": "code",
      "source": [
        "%cd \\path\\to\\yolo\\onYourComputer"
      ],
      "metadata": {
        "id": "19xny-imuQ-Q"
      },
      "id": "19xny-imuQ-Q",
      "execution_count": null,
      "outputs": []
    },
    {
      "cell_type": "markdown",
      "source": [
        "Install YOLO requirements"
      ],
      "metadata": {
        "id": "m9MS8pdGvmff"
      },
      "id": "m9MS8pdGvmff"
    },
    {
      "cell_type": "code",
      "execution_count": null,
      "id": "5f81aa2e",
      "metadata": {
        "id": "5f81aa2e"
      },
      "outputs": [],
      "source": [
        "!pip install -r requirements.txt"
      ]
    },
    {
      "cell_type": "markdown",
      "id": "66236d7d",
      "metadata": {
        "id": "66236d7d"
      },
      "source": [
        "### Imports and subroutines\n"
      ]
    },
    {
      "cell_type": "markdown",
      "id": "c30d868d",
      "metadata": {
        "id": "c30d868d"
      },
      "source": [
        "Directories"
      ]
    },
    {
      "cell_type": "code",
      "execution_count": null,
      "id": "0d246349",
      "metadata": {
        "id": "0d246349"
      },
      "outputs": [],
      "source": [
        "dir_Acquisition = \"\\path\\to\\acquisition\\directory\"\n",
        "dir_tiffLayers= \"\\path\\to\\tifflayers\\directory\"\n",
        "dir_focused= \"path\\to\\focused\\layers\\directory\"\n",
        "dir_cropped = \"\\path\\to\\cropped\\slices\\directory\""
      ]
    },
    {
      "cell_type": "markdown",
      "id": "3f1718d5",
      "metadata": {
        "id": "3f1718d5"
      },
      "source": [
        "#### Count files"
      ]
    },
    {
      "cell_type": "markdown",
      "id": "6443c265",
      "metadata": {
        "id": "6443c265"
      },
      "source": [
        "#### Load images from folder"
      ]
    },
    {
      "cell_type": "markdown",
      "id": "a33caab7",
      "metadata": {
        "id": "a33caab7"
      },
      "source": [
        " ## Detection\n"
      ]
    },
    {
      "cell_type": "code",
      "execution_count": null,
      "id": "25d788b3",
      "metadata": {
        "id": "25d788b3",
        "outputId": "7e117637-0909-4b18-807f-a1368e41050e"
      },
      "outputs": [
        {
          "name": "stderr",
          "output_type": "stream",
          "text": [
            "Error processing line 1 of C:\\Users\\opto\\AppData\\Roaming\\Python\\Python39\\site-packages\\vision-1.0.0-py3.9-nspkg.pth:\n",
            "\n",
            "  Traceback (most recent call last):\n",
            "    File \"C:\\ProgramData\\Anaconda3\\lib\\site.py\", line 169, in addpackage\n",
            "      exec(line)\n",
            "    File \"<string>\", line 1, in <module>\n",
            "    File \"<frozen importlib._bootstrap>\", line 562, in module_from_spec\n",
            "  AttributeError: 'NoneType' object has no attribute 'loader'\n",
            "\n",
            "Remainder of file ignored\n",
            "\u001b[34m\u001b[1mdetect: \u001b[0mweights=['C:\\\\CellCount\\\\YOLO\\\\OfflineYOLO\\\\no21_.pt'], source=C:\\CellCount\\YOLO\\OfflineYOLO\\Cropped, data=data\\coco128.yaml, imgsz=[1280, 1280], conf_thres=0.25, iou_thres=0.45, max_det=1000, device=, view_img=False, save_txt=True, save_conf=False, save_crop=False, nosave=False, classes=None, agnostic_nms=True, augment=False, visualize=False, update=False, project=runs\\detect, name=exp, exist_ok=False, line_thickness=3, hide_labels=False, hide_conf=False, half=False, dnn=False, vid_stride=1\n",
            "YOLOv5  2022-11-19 Python-3.9.13 torch-1.13.1+cpu CPU\n",
            "\n",
            "Fusing layers... \n",
            "custom_YOLOv5x summary: 182 layers, 7249215 parameters, 0 gradients\n",
            "image 1/12 C:\\CellCount\\YOLO\\OfflineYOLO\\Cropped\\1001000.png: 1280x1280 230 Cells, 4 DeadCells, 1802.1ms\n",
            "image 2/12 C:\\CellCount\\YOLO\\OfflineYOLO\\Cropped\\1001001.png: 1280x1280 262 Cells, 7 DeadCells, 1646.4ms\n",
            "image 3/12 C:\\CellCount\\YOLO\\OfflineYOLO\\Cropped\\1005000.png: 1280x1280 239 Cells, 6 DeadCells, 1690.0ms\n",
            "image 4/12 C:\\CellCount\\YOLO\\OfflineYOLO\\Cropped\\1005001.png: 1280x1280 238 Cells, 6 DeadCells, 1645.6ms\n",
            "image 5/12 C:\\CellCount\\YOLO\\OfflineYOLO\\Cropped\\5001000.png: 1280x1280 240 Cells, 4 DeadCells, 1707.9ms\n",
            "image 6/12 C:\\CellCount\\YOLO\\OfflineYOLO\\Cropped\\5001001.png: 1280x1280 247 Cells, 4 DeadCells, 1768.7ms\n",
            "image 7/12 C:\\CellCount\\YOLO\\OfflineYOLO\\Cropped\\5005000.png: 1280x1280 252 Cells, 5 DeadCells, 1707.9ms\n",
            "image 8/12 C:\\CellCount\\YOLO\\OfflineYOLO\\Cropped\\5005001.png: 1280x1280 229 Cells, 7 DeadCells, 1675.3ms\n",
            "image 9/12 C:\\CellCount\\YOLO\\OfflineYOLO\\Cropped\\9001000.png: 1280x1280 251 Cells, 3 DeadCells, 1721.0ms\n",
            "image 10/12 C:\\CellCount\\YOLO\\OfflineYOLO\\Cropped\\9001001.png: 1280x1280 241 Cells, 3 DeadCells, 1756.8ms\n",
            "image 11/12 C:\\CellCount\\YOLO\\OfflineYOLO\\Cropped\\9005000.png: 1280x1280 276 Cells, 5 DeadCells, 1754.8ms\n",
            "image 12/12 C:\\CellCount\\YOLO\\OfflineYOLO\\Cropped\\9005001.png: 1280x1280 232 Cells, 3 DeadCells, 1696.3ms\n",
            "Speed: 12.7ms pre-process, 1714.4ms inference, 10.4ms NMS per image at shape (1, 3, 1280, 1280)\n",
            "Results saved to \u001b[1mruns\\detect\\exp36\u001b[0m\n",
            "12 labels saved to runs\\detect\\exp36\\labels\n"
          ]
        }
      ],
      "source": [
        "#Inference from saved best weights, running on test images folder\n",
        "!python detect.py --agnostic --save-txt  --weights path\\to\\bestWeights.pt --img 1280 --source dir_cropped"
      ]
    }
  ],
  "metadata": {
    "kernelspec": {
      "display_name": "Python 3 (ipykernel)",
      "language": "python",
      "name": "python3"
    },
    "language_info": {
      "codemirror_mode": {
        "name": "ipython",
        "version": 3
      },
      "file_extension": ".py",
      "mimetype": "text/x-python",
      "name": "python",
      "nbconvert_exporter": "python",
      "pygments_lexer": "ipython3",
      "version": "3.9.13"
    },
    "colab": {
      "provenance": []
    }
  },
  "nbformat": 4,
  "nbformat_minor": 5
}