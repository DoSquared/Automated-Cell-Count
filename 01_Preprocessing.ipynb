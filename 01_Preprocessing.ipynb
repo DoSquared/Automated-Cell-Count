{
  "cells": [
    {
      "cell_type": "markdown",
      "source": [
        "## *1. Preprocessing Notebook*"
      ],
      "metadata": {
        "id": "QEzL8sTLZ9pb"
      },
      "id": "QEzL8sTLZ9pb"
    },
    {
      "cell_type": "markdown",
      "id": "66236d7d",
      "metadata": {
        "id": "66236d7d"
      },
      "source": [
        "### Libraries\n"
      ]
    },
    {
      "cell_type": "code",
      "execution_count": null,
      "id": "5e9e5150",
      "metadata": {
        "id": "5e9e5150"
      },
      "outputs": [],
      "source": [
        "from PIL import Image, ImageSequence\n",
        "import cv2\n",
        "import numpy as np\n",
        "import os\n",
        "import string\n",
        "import torch\n",
        "import glob\n"
      ]
    },
    {
      "cell_type": "markdown",
      "id": "c30d868d",
      "metadata": {
        "id": "c30d868d"
      },
      "source": [
        "#### Directories"
      ]
    },
    {
      "cell_type": "code",
      "execution_count": null,
      "id": "0d246349",
      "metadata": {
        "id": "0d246349"
      },
      "outputs": [],
      "source": [
        "dir_Acquisition = \"\\path\\to\\acquisition\\directory\"\n",
        "dir_tiffLayers= \"\\path\\to\\tifflayers\\directory\"\n",
        "dir_focused= \"path\\to\\focused\\layers\\directory\"\n",
        "dir_cropped = \"\\path\\to\\cropped\\slices\\directory\""
      ]
    },
    {
      "cell_type": "markdown",
      "source": [
        "## Functions"
      ],
      "metadata": {
        "id": "i0gUn5Jhbdnr"
      },
      "id": "i0gUn5Jhbdnr"
    },
    {
      "cell_type": "markdown",
      "id": "3f1718d5",
      "metadata": {
        "id": "3f1718d5"
      },
      "source": [
        "#### Count files"
      ]
    },
    {
      "cell_type": "code",
      "execution_count": null,
      "id": "fb73ae23",
      "metadata": {
        "id": "fb73ae23"
      },
      "outputs": [],
      "source": [
        "#Function to count files in a directory\n",
        "def count_files(folder_path):\n",
        "    count = 0\n",
        "    for _, _, files in os.walk(folder_path):\n",
        "        count += len(files)\n",
        "    return count"
      ]
    },
    {
      "cell_type": "markdown",
      "id": "6443c265",
      "metadata": {
        "id": "6443c265"
      },
      "source": [
        "#### Load images from folder"
      ]
    },
    {
      "cell_type": "code",
      "execution_count": null,
      "id": "da479844",
      "metadata": {
        "id": "da479844"
      },
      "outputs": [],
      "source": [
        "#Function to load images from a directory\n",
        "def load_images_from_folder(folder):\n",
        "    images = []\n",
        "    for filename in os.listdir(folder):\n",
        "        img = cv2.imread(os.path.join(folder,filename))\n",
        "        if img is not None:\n",
        "            images.append(img)\n",
        "    return images"
      ]
    },
    {
      "cell_type": "markdown",
      "id": "02698cda",
      "metadata": {
        "id": "02698cda"
      },
      "source": [
        "#### Read mulitlayered .tiff files and export focused layer"
      ]
    },
    {
      "cell_type": "code",
      "execution_count": null,
      "id": "ad96ac3e",
      "metadata": {
        "id": "ad96ac3e"
      },
      "outputs": [],
      "source": [
        "#Function to Read multi-layered .tiff files and save the layer with highest sharpness score\n",
        "def Tiff_ToStacks(dir_Acquisition,dir_tiffLayers,dir_focused):\n",
        "\n",
        "    list_sharpness = []\n",
        "    copy_list= []\n",
        "    j = 0\n",
        "\n",
        "    #Loop images in directorz acquisition\n",
        "    for image in os.listdir(dir_Acquisition):\n",
        "      os.chdir(dir_Acquisition)\n",
        "      tiffopen = Image.open(image)\n",
        "      j = j+1\n",
        "      os.chdir(dir_tiffLayers)\n",
        "      #Loop layers of each image\n",
        "      for i, page in enumerate(ImageSequence.Iterator(tiffopen)):\n",
        "        page.mode = 'I'\n",
        "        page.point(lambda i:i*(1./256)).convert('L').save(str(j)+str(i)+'.jpeg')\n",
        "        #print(str(j)+str(i))\n",
        "\n",
        "        #find the focused page\n",
        "          #Navigate to diretory with .tiffLayers\n",
        "          #Load layers from Image_i to a collection\n",
        "        collection  = load_images_from_folder(dir_tiffLayers)\n",
        "        list_sharpness = []\n",
        "        copy_list= []\n",
        "        #Loop the collection\n",
        "      for w in collection:\n",
        "        gray = cv2.cvtColor(w, cv2.COLOR_BGR2GRAY)\n",
        "        array = np.asarray(gray)\n",
        "        gy, gx = np.gradient(array)\n",
        "        gnorm = np.sqrt(gx**2 + gy**2)\n",
        "        sharpness = np.average(gnorm)\n",
        "        list_sharpness.append(sharpness)\n",
        "\n",
        "        #copy the list of sharpness evaluation to sort and find the sharpest layer\n",
        "      copy_list = list_sharpness.copy()\n",
        "      copy_list.sort()\n",
        "      #print(copy_list)\n",
        "      #print(copy_list[list_len-1])\n",
        "\n",
        "      #sharpest image is the layer with highest sharpness score which is the last element of the sorted array\n",
        "      sharp= copy_list[len(copy_list)-1]\n",
        "      s= list_sharpness.index(sharp)\n",
        "      #print(copy_list)\n",
        "      #print(list_sharpness)\n",
        "      #print(s)\n",
        "      #after getting the index of sharpest layer, save it from collection to focused images directory\n",
        "      img_to_save = collection[s]\n",
        "      img_path_name = dir_focused+'/'+str(i)+str(j)+'.jpeg'\n",
        "      cv2.imwrite(img_path_name,img_to_save)\n",
        "      print(img_path_name)\n",
        "      #Delete all files in .tiff layers directory to prepare for loading the next image\n",
        "      for file in os.listdir(dir_tiffLayers):\n",
        "        if file.endswith('.jpeg'):\n",
        "          os.remove(file)"
      ]
    },
    {
      "cell_type": "markdown",
      "id": "e0efc61c",
      "metadata": {
        "id": "e0efc61c"
      },
      "source": [
        "#### Sliding window"
      ]
    },
    {
      "cell_type": "code",
      "execution_count": null,
      "id": "a50ea916",
      "metadata": {
        "id": "a50ea916"
      },
      "outputs": [],
      "source": [
        "#Function to crop image into slices with Neubauer chamber grid size\n",
        "# using a sliding window looping over the image\n",
        "def Sliding_Window(image, stepSize, windowSize, e_num):\n",
        "  #gray = cv2.cvtColor(image, cv2.COLOR_BGR2GRAY)\n",
        "  #Neubauer Grid size in pixels as calculated from image resolution\n",
        "  h = 1440\n",
        "  w = 1440\n",
        "  #start with a small buffer\n",
        "  #Step size is input from function call\n",
        "  for j in range(100, image.shape[0]-h, stepSize):\n",
        "    for i in range(100, image.shape[1]-w, stepSize):\n",
        "      gray = cv2.cvtColor(image, cv2.COLOR_BGR2GRAY)\n",
        "      roi = gray[j:j+ windowSize[1], i:i+ windowSize[0]]\n",
        "      cv2.imwrite(str(i)+str(j)+str(e_num)+\".png\", roi)"
      ]
    },
    {
      "cell_type": "markdown",
      "id": "fc5940f9",
      "metadata": {
        "id": "fc5940f9"
      },
      "source": [
        "## Preprocessing"
      ]
    },
    {
      "cell_type": "markdown",
      "id": "bd3f7672",
      "metadata": {
        "id": "bd3f7672"
      },
      "source": [
        "#### Find focused stack"
      ]
    },
    {
      "cell_type": "code",
      "execution_count": null,
      "id": "f2b2feb2",
      "metadata": {
        "id": "f2b2feb2",
        "outputId": "4c16e384-05f2-4e5e-b4a8-f52bb5e415f9"
      },
      "outputs": [
        {
          "name": "stdout",
          "output_type": "stream",
          "text": [
            "C:\\CellCount\\YOLO\\OfflineYOLO\\Focused/101.jpeg\n",
            "C:\\CellCount\\YOLO\\OfflineYOLO\\Focused/102.jpeg\n"
          ]
        }
      ],
      "source": [
        "#Function Call\n",
        "Tiff_ToStacks(dir_Acquisition,dir_tiffLayers,dir_focused)"
      ]
    },
    {
      "cell_type": "markdown",
      "id": "6b4376da",
      "metadata": {
        "id": "6b4376da"
      },
      "source": [
        "#### Sliding window crop"
      ]
    },
    {
      "cell_type": "code",
      "execution_count": null,
      "id": "dc04ae9e",
      "metadata": {
        "id": "dc04ae9e"
      },
      "outputs": [],
      "source": [
        "#Load focused images into a collection\n",
        "collection_tocrop  = load_images_from_folder(dir_focused)\n",
        "\n",
        "#Crop Slices with sliding window\n",
        "#Navigate to folder where cropped images will be saved\n",
        "os.chdir(dir_cropped)\n",
        "for no, img in enumerate(collection_tocrop):\n",
        "  #gray = cv2.cvtColor(img, cv2.COLOR_BGR2GRAY)\n",
        "  Sliding_Window(img, 400, [1440,1440],no)\n"
      ]
    }
  ],
  "metadata": {
    "kernelspec": {
      "display_name": "Python 3 (ipykernel)",
      "language": "python",
      "name": "python3"
    },
    "language_info": {
      "codemirror_mode": {
        "name": "ipython",
        "version": 3
      },
      "file_extension": ".py",
      "mimetype": "text/x-python",
      "name": "python",
      "nbconvert_exporter": "python",
      "pygments_lexer": "ipython3",
      "version": "3.9.13"
    },
    "colab": {
      "provenance": []
    }
  },
  "nbformat": 4,
  "nbformat_minor": 5
}