{
  "cells": [
    {
      "cell_type": "markdown",
      "id": "77eaf564",
      "metadata": {
        "id": "77eaf564"
      },
      "source": [
        "Install YOLO requirements"
      ]
    },
    {
      "cell_type": "code",
      "execution_count": null,
      "id": "5f81aa2e",
      "metadata": {
        "id": "5f81aa2e"
      },
      "outputs": [],
      "source": [
        "#!pip install -r requirements.txt"
      ]
    },
    {
      "cell_type": "code",
      "execution_count": null,
      "id": "d1e27bbd",
      "metadata": {
        "id": "d1e27bbd"
      },
      "outputs": [],
      "source": [
        "#!pip install termcolor\n"
      ]
    },
    {
      "cell_type": "markdown",
      "id": "66236d7d",
      "metadata": {
        "id": "66236d7d"
      },
      "source": [
        "### Imports and subroutines\n"
      ]
    },
    {
      "cell_type": "code",
      "execution_count": null,
      "id": "5e9e5150",
      "metadata": {
        "id": "5e9e5150"
      },
      "outputs": [],
      "source": [
        "from PIL import Image, ImageSequence\n",
        "import cv2\n",
        "import numpy as np\n",
        "import os\n",
        "import string\n",
        "import torch\n",
        "import glob\n"
      ]
    },
    {
      "cell_type": "markdown",
      "id": "c30d868d",
      "metadata": {
        "id": "c30d868d"
      },
      "source": [
        "Directories"
      ]
    },
    {
      "cell_type": "code",
      "execution_count": null,
      "id": "0d246349",
      "metadata": {
        "id": "0d246349"
      },
      "outputs": [],
      "source": [
        "dir_Acquisition = \"\\path\\to\\acquisition\\directory\"\n",
        "dir_tiffLayers= \"\\path\\to\\tifflayers\\directory\"\n",
        "dir_focused= \"path\\to\\focused\\layers\\directory\"\n",
        "dir_cropped = \"\\path\\to\\cropped\\slices\\directory\""
      ]
    },
    {
      "cell_type": "markdown",
      "id": "3f1718d5",
      "metadata": {
        "id": "3f1718d5"
      },
      "source": [
        "#### Count files"
      ]
    },
    {
      "cell_type": "code",
      "execution_count": null,
      "id": "fb73ae23",
      "metadata": {
        "id": "fb73ae23"
      },
      "outputs": [],
      "source": [
        "#Function to count files in a directory\n",
        "def count_files(folder_path):\n",
        "    count = 0\n",
        "    for _, _, files in os.walk(folder_path):\n",
        "        count += len(files)\n",
        "    return count"
      ]
    },
    {
      "cell_type": "markdown",
      "id": "6443c265",
      "metadata": {
        "id": "6443c265"
      },
      "source": [
        "#### Load images from folder"
      ]
    },
    {
      "cell_type": "code",
      "execution_count": null,
      "id": "da479844",
      "metadata": {
        "id": "da479844"
      },
      "outputs": [],
      "source": [
        "#Function to load images from a directory\n",
        "def load_images_from_folder(folder):\n",
        "    images = []\n",
        "    for filename in os.listdir(folder):\n",
        "        img = cv2.imread(os.path.join(folder,filename))\n",
        "        if img is not None:\n",
        "            images.append(img)\n",
        "    return images"
      ]
    },
    {
      "cell_type": "markdown",
      "id": "02698cda",
      "metadata": {
        "id": "02698cda"
      },
      "source": [
        "#### Read mulitlayered .tiff and export focused layer"
      ]
    },
    {
      "cell_type": "code",
      "execution_count": null,
      "id": "ad96ac3e",
      "metadata": {
        "id": "ad96ac3e"
      },
      "outputs": [],
      "source": [
        "#Function to Read multi-layered .tiff files and one layer with the highest sharpness score\n",
        "def Tiff_ToStacks(dir_Acquisition,dir_tiffLayers,dir_focused):\n",
        "\n",
        "    list_sharpness = []\n",
        "    copy_list= []\n",
        "    j = 0\n",
        "\n",
        "    #Loop images in directorz acquisition\n",
        "    for image in os.listdir(dir_Acquisition):\n",
        "      os.chdir(dir_Acquisition)\n",
        "      tiffopen = Image.open(image)\n",
        "      j = j+1\n",
        "      os.chdir(dir_tiffLayers)\n",
        "      #Loop layers of each image\n",
        "      for i, page in enumerate(ImageSequence.Iterator(tiffopen)):\n",
        "        page.mode = 'I'\n",
        "        page.point(lambda i:i*(1./256)).convert('L').save(str(j)+str(i)+'.jpeg')\n",
        "        #print(str(j)+str(i))\n",
        "\n",
        "        #find the focused page\n",
        "          #Navigate to diretory with .tiffLayers\n",
        "          #Load layers from Image_i to a collection\n",
        "        collection  = load_images_from_folder(dir_tiffLayers)\n",
        "        list_sharpness = []\n",
        "        copy_list= []\n",
        "        #Loop the collection\n",
        "      for w in collection:\n",
        "        gray = cv2.cvtColor(w, cv2.COLOR_BGR2GRAY)\n",
        "        array = np.asarray(gray)\n",
        "        gy, gx = np.gradient(array)\n",
        "        gnorm = np.sqrt(gx**2 + gy**2)\n",
        "        sharpness = np.average(gnorm)\n",
        "        list_sharpness.append(sharpness)\n",
        "\n",
        "        #copy the list of sharpness evaluation to sort and find the sharpest layer\n",
        "      copy_list = list_sharpness.copy()\n",
        "      copy_list.sort()\n",
        "      #print(copy_list)\n",
        "      #print(copy_list[list_len-1])\n",
        "\n",
        "      #sharpest image is the layer with highest sharpness score which is the last element of the sorted array\n",
        "      sharp= copy_list[len(copy_list)-1]\n",
        "      s= list_sharpness.index(sharp)\n",
        "      #print(copy_list)\n",
        "      #print(list_sharpness)\n",
        "      #print(s)\n",
        "      #after getting the index of sharpest layer, save it from collection to focused images directory\n",
        "      img_to_save = collection[s]\n",
        "      img_path_name = dir_focused+'/'+str(i)+str(j)+'.jpeg'\n",
        "      cv2.imwrite(img_path_name,img_to_save)\n",
        "      print(img_path_name)\n",
        "      #Delete all files in .tiff layers directory to prepare for loading the next image\n",
        "      for file in os.listdir(dir_tiffLayers):\n",
        "        if file.endswith('.jpeg'):\n",
        "          os.remove(file)"
      ]
    },
    {
      "cell_type": "markdown",
      "id": "e0efc61c",
      "metadata": {
        "id": "e0efc61c"
      },
      "source": [
        "#### Sliding window"
      ]
    },
    {
      "cell_type": "code",
      "execution_count": null,
      "id": "a50ea916",
      "metadata": {
        "id": "a50ea916"
      },
      "outputs": [],
      "source": [
        "#Function to crop image into slices with Neubauer chamber grid size\n",
        "# using a sliding window looping over the image\n",
        "def Sliding_Window(image, stepSize, windowSize, e_num):\n",
        "  #gray = cv2.cvtColor(image, cv2.COLOR_BGR2GRAY)\n",
        "  #Neubauer Grid size in pixels as calculated from image resolution\n",
        "  h = 1440\n",
        "  w = 1440\n",
        "  #start with a small buffer\n",
        "  #Step size is input from function call\n",
        "  for j in range(100, image.shape[0]-h, stepSize):\n",
        "    for i in range(100, image.shape[1]-w, stepSize):\n",
        "      gray = cv2.cvtColor(image, cv2.COLOR_BGR2GRAY)\n",
        "      roi = gray[j:j+ windowSize[1], i:i+ windowSize[0]]\n",
        "      cv2.imwrite(str(i)+str(j)+str(e_num)+\".png\", roi)"
      ]
    },
    {
      "cell_type": "markdown",
      "id": "b09fb09b",
      "metadata": {
        "id": "b09fb09b"
      },
      "source": [
        "#### Count cells from bounding boxes data"
      ]
    },
    {
      "cell_type": "markdown",
      "id": "45a1e905",
      "metadata": {
        "id": "45a1e905"
      },
      "source": [
        "#### Find last created folder in \\detect directory"
      ]
    },
    {
      "cell_type": "code",
      "execution_count": null,
      "id": "d1134419",
      "metadata": {
        "id": "d1134419"
      },
      "outputs": [],
      "source": [
        "#Find the last created folder in detection output\n",
        "#In YOLO folders the detection output is often a newly created folder in the directory where detection runs are saved\n",
        "#The main objective of this function is to find the latest folder in detection runs output directory\n",
        "\n",
        "def Latest_folder():\n",
        "    #Go to \\detect directory\n",
        "    %cd \\path\\to\\detection\\output\n",
        "\n",
        "    #get all subdirectories in detect folder of YOLO\n",
        "    all_subdirs = [d for d in os.listdir('.') if os.path.isdir(d)]\n",
        "    #print(all_subdirs)\n",
        "\n",
        "    #find the last created folder\n",
        "    latest_subdir = max(all_subdirs, key=os.path.getmtime)\n",
        "    #print(latest_subdir)\n",
        "\n",
        "    #change current directory to the last created folder\n",
        "    os.chdir(latest_subdir)\n",
        "\n",
        "    return latest_subdir"
      ]
    },
    {
      "cell_type": "code",
      "execution_count": null,
      "id": "ab20b90b",
      "metadata": {
        "id": "ab20b90b"
      },
      "outputs": [],
      "source": [
        " #List and return the names of all .txt files within a specified subdirectory\n",
        "def folder_filenames(target):\n",
        "    #try to change directory again to last exp (in case it was not successfuly updated in the previous function)\n",
        "    try:\n",
        "        os.chdir(target)\n",
        "    except:\n",
        "        pass\n",
        "\n",
        "    inputlst = [os.listdir('labels')]\n",
        "    filenamelist = []\n",
        "\n",
        "    for filename in os.listdir('labels'):\n",
        "        if filename.endswith(\".txt\"):\n",
        "            filenamelist.append(filename)\n",
        "    return filenamelist"
      ]
    },
    {
      "cell_type": "code",
      "execution_count": null,
      "id": "483e313e",
      "metadata": {
        "id": "483e313e"
      },
      "outputs": [],
      "source": [
        "# Function to read all text files in the current directory, to count the number of lines starting with '0' (live) and '1' (dead) in each file,\n",
        "# and returns two lists: one with the live counts and another with the dead counts for each file.\n",
        "def Read_txtboundingBoxes():\n",
        "    live_count=[]\n",
        "    dead_count=[]\n",
        "    #Loop over text files in folder\n",
        "    for filename in glob.glob(os.path.join(os.getcwd(),'*.txt')):\n",
        "        #open file and read lines\n",
        "        with open(filename,'r') as f:\n",
        "            live = 0\n",
        "            dead = 0\n",
        "            #read contents of each file\n",
        "            text =f.readlines()\n",
        "            #read line by line\n",
        "            for line in text:\n",
        "                #first character in each line\n",
        "                this_class=line[0]\n",
        "                if this_class.isnumeric():\n",
        "                    if int(this_class) == 0:\n",
        "                        live= live+1\n",
        "                    elif int(this_class)==1:\n",
        "                        dead = dead+1\n",
        "            live_count.append(live)\n",
        "            dead_count.append(dead)\n",
        "    return live_count,dead_count"
      ]
    },
    {
      "cell_type": "markdown",
      "id": "0bf886a9",
      "metadata": {
        "id": "0bf886a9"
      },
      "source": [
        "#### List average"
      ]
    },
    {
      "cell_type": "code",
      "execution_count": null,
      "id": "5248d48a",
      "metadata": {
        "id": "5248d48a",
        "colab": {
          "base_uri": "https://localhost:8080/",
          "height": 110
        },
        "outputId": "be3046f5-8459-47a5-b394-916df069820d"
      },
      "outputs": [
        {
          "output_type": "error",
          "ename": "SyntaxError",
          "evalue": "leading zeros in decimal integer literals are not permitted; use an 0o prefix for octal integers (<ipython-input-1-b526b6e8fb02>, line 2)",
          "traceback": [
            "\u001b[0;36m  File \u001b[0;32m\"<ipython-input-1-b526b6e8fb02>\"\u001b[0;36m, line \u001b[0;32m2\u001b[0m\n\u001b[0;31m    sum = 01\u001b[0m\n\u001b[0m          ^\u001b[0m\n\u001b[0;31mSyntaxError\u001b[0m\u001b[0;31m:\u001b[0m leading zeros in decimal integer literals are not permitted; use an 0o prefix for octal integers\n"
          ]
        }
      ],
      "source": [
        "#Calculate list average\n",
        "def list_avg(L):\n",
        "    sum = 0\n",
        "    for i in L:\n",
        "        sum = sum+i\n",
        "    avg = int(sum / len(L))\n",
        "    return avg"
      ]
    },
    {
      "cell_type": "markdown",
      "id": "c91fe709",
      "metadata": {
        "id": "c91fe709"
      },
      "source": [
        "#### Cell Count averages"
      ]
    },
    {
      "cell_type": "code",
      "execution_count": null,
      "id": "7a45b65b",
      "metadata": {
        "id": "7a45b65b"
      },
      "outputs": [],
      "source": [
        "#Calculate list average per one corner(Neubauer chamber)\n",
        "def list_avg_per_corner(L):\n",
        "\n",
        "    acq_count = count_files(dir_Acquisition)\n",
        "    crops_count = count_files(dir_cropped)\n",
        "    #no of crops per corner\n",
        "    n = int(crops_count/acq_count)\n",
        "\n",
        "    averages = []\n",
        "\n",
        "    #L is the list of calculated number of cells\n",
        "    for i in range(1, len(L), n):\n",
        "        corner = L[i:i + n]\n",
        "        average = round(sum(corner) / len(corner))\n",
        "        averages.append(average)\n",
        "\n",
        "    return averages"
      ]
    },
    {
      "cell_type": "code",
      "execution_count": null,
      "id": "1137dfd8",
      "metadata": {
        "id": "1137dfd8",
        "outputId": "9fb3cf9a-c683-433d-c8e5-45c01ec7565d"
      },
      "outputs": [
        {
          "name": "stdout",
          "output_type": "stream",
          "text": [
            "2\n",
            "0\n",
            "0.0\n"
          ]
        }
      ],
      "source": [
        "print(count_files(dir_Acquisition))\n",
        "print(count_files(dir_cropped))\n",
        "acq_count = count_files(dir_Acquisition)\n",
        "crops_count = count_files(dir_cropped)\n",
        "#no of crops per corner\n",
        "n = crops_count/acq_count\n",
        "print(n)"
      ]
    },
    {
      "cell_type": "markdown",
      "id": "fc5940f9",
      "metadata": {
        "id": "fc5940f9"
      },
      "source": [
        "## Preprocessing"
      ]
    },
    {
      "cell_type": "markdown",
      "id": "bd3f7672",
      "metadata": {
        "id": "bd3f7672"
      },
      "source": [
        "#### Find focused stack"
      ]
    },
    {
      "cell_type": "code",
      "execution_count": null,
      "id": "f2b2feb2",
      "metadata": {
        "id": "f2b2feb2",
        "outputId": "4c16e384-05f2-4e5e-b4a8-f52bb5e415f9"
      },
      "outputs": [
        {
          "name": "stdout",
          "output_type": "stream",
          "text": [
            "C:\\CellCount\\YOLO\\OfflineYOLO\\Focused/101.jpeg\n",
            "C:\\CellCount\\YOLO\\OfflineYOLO\\Focused/102.jpeg\n"
          ]
        }
      ],
      "source": [
        "#Function Call\n",
        "Tiff_ToStacks(dir_Acquisition,dir_tiffLayers,dir_focused)"
      ]
    },
    {
      "cell_type": "markdown",
      "id": "6b4376da",
      "metadata": {
        "id": "6b4376da"
      },
      "source": [
        "#### Sliding window crop"
      ]
    },
    {
      "cell_type": "code",
      "execution_count": null,
      "id": "dc04ae9e",
      "metadata": {
        "id": "dc04ae9e"
      },
      "outputs": [],
      "source": [
        "#Load focused images into a collection\n",
        "collection_tocrop  = load_images_from_folder(dir_focused)\n",
        "\n",
        "#Crop Slices with sliding window\n",
        "#Navigate to folder where cropped images will be saved\n",
        "os.chdir(dir_cropped)\n",
        "for no, img in enumerate(collection_tocrop):\n",
        "  #gray = cv2.cvtColor(img, cv2.COLOR_BGR2GRAY)\n",
        "  Sliding_Window(img, 400, [1440,1440],no)\n"
      ]
    },
    {
      "cell_type": "markdown",
      "id": "a33caab7",
      "metadata": {
        "id": "a33caab7"
      },
      "source": [
        " ## Detection\n"
      ]
    },
    {
      "cell_type": "code",
      "execution_count": null,
      "id": "25d788b3",
      "metadata": {
        "id": "25d788b3",
        "outputId": "7e117637-0909-4b18-807f-a1368e41050e"
      },
      "outputs": [
        {
          "name": "stderr",
          "output_type": "stream",
          "text": [
            "Error processing line 1 of C:\\Users\\opto\\AppData\\Roaming\\Python\\Python39\\site-packages\\vision-1.0.0-py3.9-nspkg.pth:\n",
            "\n",
            "  Traceback (most recent call last):\n",
            "    File \"C:\\ProgramData\\Anaconda3\\lib\\site.py\", line 169, in addpackage\n",
            "      exec(line)\n",
            "    File \"<string>\", line 1, in <module>\n",
            "    File \"<frozen importlib._bootstrap>\", line 562, in module_from_spec\n",
            "  AttributeError: 'NoneType' object has no attribute 'loader'\n",
            "\n",
            "Remainder of file ignored\n",
            "\u001b[34m\u001b[1mdetect: \u001b[0mweights=['C:\\\\CellCount\\\\YOLO\\\\OfflineYOLO\\\\no21_.pt'], source=C:\\CellCount\\YOLO\\OfflineYOLO\\Cropped, data=data\\coco128.yaml, imgsz=[1280, 1280], conf_thres=0.25, iou_thres=0.45, max_det=1000, device=, view_img=False, save_txt=True, save_conf=False, save_crop=False, nosave=False, classes=None, agnostic_nms=True, augment=False, visualize=False, update=False, project=runs\\detect, name=exp, exist_ok=False, line_thickness=3, hide_labels=False, hide_conf=False, half=False, dnn=False, vid_stride=1\n",
            "YOLOv5  2022-11-19 Python-3.9.13 torch-1.13.1+cpu CPU\n",
            "\n",
            "Fusing layers... \n",
            "custom_YOLOv5x summary: 182 layers, 7249215 parameters, 0 gradients\n",
            "image 1/12 C:\\CellCount\\YOLO\\OfflineYOLO\\Cropped\\1001000.png: 1280x1280 230 Cells, 4 DeadCells, 1802.1ms\n",
            "image 2/12 C:\\CellCount\\YOLO\\OfflineYOLO\\Cropped\\1001001.png: 1280x1280 262 Cells, 7 DeadCells, 1646.4ms\n",
            "image 3/12 C:\\CellCount\\YOLO\\OfflineYOLO\\Cropped\\1005000.png: 1280x1280 239 Cells, 6 DeadCells, 1690.0ms\n",
            "image 4/12 C:\\CellCount\\YOLO\\OfflineYOLO\\Cropped\\1005001.png: 1280x1280 238 Cells, 6 DeadCells, 1645.6ms\n",
            "image 5/12 C:\\CellCount\\YOLO\\OfflineYOLO\\Cropped\\5001000.png: 1280x1280 240 Cells, 4 DeadCells, 1707.9ms\n",
            "image 6/12 C:\\CellCount\\YOLO\\OfflineYOLO\\Cropped\\5001001.png: 1280x1280 247 Cells, 4 DeadCells, 1768.7ms\n",
            "image 7/12 C:\\CellCount\\YOLO\\OfflineYOLO\\Cropped\\5005000.png: 1280x1280 252 Cells, 5 DeadCells, 1707.9ms\n",
            "image 8/12 C:\\CellCount\\YOLO\\OfflineYOLO\\Cropped\\5005001.png: 1280x1280 229 Cells, 7 DeadCells, 1675.3ms\n",
            "image 9/12 C:\\CellCount\\YOLO\\OfflineYOLO\\Cropped\\9001000.png: 1280x1280 251 Cells, 3 DeadCells, 1721.0ms\n",
            "image 10/12 C:\\CellCount\\YOLO\\OfflineYOLO\\Cropped\\9001001.png: 1280x1280 241 Cells, 3 DeadCells, 1756.8ms\n",
            "image 11/12 C:\\CellCount\\YOLO\\OfflineYOLO\\Cropped\\9005000.png: 1280x1280 276 Cells, 5 DeadCells, 1754.8ms\n",
            "image 12/12 C:\\CellCount\\YOLO\\OfflineYOLO\\Cropped\\9005001.png: 1280x1280 232 Cells, 3 DeadCells, 1696.3ms\n",
            "Speed: 12.7ms pre-process, 1714.4ms inference, 10.4ms NMS per image at shape (1, 3, 1280, 1280)\n",
            "Results saved to \u001b[1mruns\\detect\\exp36\u001b[0m\n",
            "12 labels saved to runs\\detect\\exp36\\labels\n"
          ]
        }
      ],
      "source": [
        "#Inference from saved best weights, running on test images folder\n",
        "!python detect.py --agnostic --save-txt  --weights path\\to\\bestWeights.pt --img 1280 --source path\\to\\cropped\\imageSlices"
      ]
    },
    {
      "cell_type": "markdown",
      "id": "6f539542",
      "metadata": {
        "id": "6f539542"
      },
      "source": [
        "## Count cells from labels"
      ]
    },
    {
      "cell_type": "code",
      "execution_count": null,
      "id": "f4ade72e",
      "metadata": {
        "id": "f4ade72e",
        "outputId": "e9351860-3b85-494f-cca6-7612693ca079"
      },
      "outputs": [
        {
          "name": "stdout",
          "output_type": "stream",
          "text": [
            "C:\\CellCount\\YOLO\\OfflineYOLO\\yolov5-master\\runs\\detect\n",
            "exp36\n"
          ]
        }
      ],
      "source": [
        "#Navigate to the latest folder in \\detect\n",
        "last_exp = Latest_folder()\n",
        "print(last_exp)"
      ]
    },
    {
      "cell_type": "code",
      "execution_count": null,
      "id": "7e762381",
      "metadata": {
        "id": "7e762381"
      },
      "outputs": [],
      "source": [
        "#get a list of .txt files in the last exp folder\n",
        "filenames = folder_filenames(last_exp)"
      ]
    },
    {
      "cell_type": "code",
      "execution_count": null,
      "id": "099da4fb",
      "metadata": {
        "id": "099da4fb",
        "outputId": "c3eb8218-674d-43a7-9554-42952cf9e86f"
      },
      "outputs": [
        {
          "name": "stdout",
          "output_type": "stream",
          "text": [
            "['1001000.txt', '1001001.txt', '1005000.txt', '1005001.txt', '5001000.txt', '5001001.txt', '5005000.txt', '5005001.txt', '9001000.txt', '9001001.txt', '9005000.txt', '9005001.txt']\n"
          ]
        }
      ],
      "source": [
        "print(folder_filenames(last_exp))"
      ]
    },
    {
      "cell_type": "code",
      "execution_count": null,
      "id": "3aa2251d",
      "metadata": {
        "id": "3aa2251d"
      },
      "outputs": [],
      "source": [
        "#Change path to labels folder\n",
        "os.chdir('labels')"
      ]
    },
    {
      "cell_type": "code",
      "execution_count": null,
      "id": "a92beb93",
      "metadata": {
        "scrolled": true,
        "id": "a92beb93",
        "outputId": "0a8006b7-922f-489c-bf9d-f06b6d10b80a"
      },
      "outputs": [
        {
          "name": "stdout",
          "output_type": "stream",
          "text": [
            "Live cells:\n",
            "Count [230, 262, 239, 238, 240, 247, 252, 229, 251, 241, 276, 232] \n",
            "\n",
            "Average from all corners: Sum/#of corners:  244 \n",
            "\n",
            "Average per corner (list) : [246, 246] \t Average 246 \n",
            "\n",
            "Dead cells:\n",
            "Count [4, 7, 6, 6, 4, 4, 5, 7, 3, 3, 5, 3] \n",
            "\n",
            "Average from all corners: Sum/#of corners:  4 \n",
            "\n",
            "Average per corner (list) : [5, 4] \t Average 4 \n",
            "\n"
          ]
        }
      ],
      "source": [
        "#Extract and print count results from .txt files\n",
        "#Call function to count class occurrencies from .txt files\n",
        "live_count, dead_count = Read_txtboundingBoxes()\n",
        "print('Live cells:')\n",
        "\n",
        "print(\"Count\",live_count,\"\\ n\")\n",
        "print(\"Average from all corners: Sum/#of corners: \",list_avg(live_count),\"\\n\")\n",
        "averages_per_corner = list_avg_per_corner(live_count)\n",
        "print(\"Average per corner (list) :\",averages_per_corner,\"\\t\", \"Average\",list_avg(averages_per_corner),\"\\n\")\n",
        "\n",
        "print('Dead cells:')\n",
        "print(\"Count\",dead_count,\"\\n\")\n",
        "print(\"Average from all corners: Sum/#of corners: \",list_avg(dead_count),\"\\n\")\n",
        "dead_averages_per_corner = list_avg_per_corner(dead_count)\n",
        "print(\"Average per corner (list) :\",dead_averages_per_corner,\"\\t\", \"Average\",list_avg(dead_averages_per_corner),\"\\n\")"
      ]
    },
    {
      "cell_type": "markdown",
      "id": "82d32c4d",
      "metadata": {
        "id": "82d32c4d"
      },
      "source": [
        "Write results to a text file"
      ]
    },
    {
      "cell_type": "code",
      "execution_count": null,
      "id": "4946f1d2",
      "metadata": {
        "id": "4946f1d2",
        "outputId": "e4933fea-171f-4ce6-9c50-a576d2c366a9"
      },
      "outputs": [
        {
          "name": "stdout",
          "output_type": "stream",
          "text": [
            "Live cells:\n",
            "Count [51, 60, 46, 46, 62, 63, 61, 55, 39, 62, 64, 51, 55, 53, 42, 57, 57, 63, 65, 50, 45, 62, 60, 58, 57, 45, 51, 57, 55, 62, 71, 42, 51, 57, 57, 58, 0]\n",
            "Average: 53\n",
            "Dead cells:\n",
            "Count [8, 5, 8, 8, 3, 2, 5, 2, 4, 5, 1, 5, 7, 4, 8, 5, 1, 2, 4, 2, 4, 3, 0, 4, 6, 3, 7, 4, 2, 1, 3, 3, 4, 2, 2, 1, 0]\n",
            "Average: 3\n"
          ]
        }
      ],
      "source": [
        "with open('Summary.txt', 'w') as f:\n",
        "    print(\"Live cells:\")\n",
        "    print(\"Count\",live_count)\n",
        "    print(\"Average:\",list_avg(live_count))\n",
        "\n",
        "    print(\"Dead cells:\")\n",
        "    print(\"Count\", dead_count)\n",
        "    print(\"Average:\",list_avg(dead_count))\n",
        "    f.close()"
      ]
    }
  ],
  "metadata": {
    "kernelspec": {
      "display_name": "Python 3 (ipykernel)",
      "language": "python",
      "name": "python3"
    },
    "language_info": {
      "codemirror_mode": {
        "name": "ipython",
        "version": 3
      },
      "file_extension": ".py",
      "mimetype": "text/x-python",
      "name": "python",
      "nbconvert_exporter": "python",
      "pygments_lexer": "ipython3",
      "version": "3.9.13"
    },
    "colab": {
      "provenance": []
    }
  },
  "nbformat": 4,
  "nbformat_minor": 5
}